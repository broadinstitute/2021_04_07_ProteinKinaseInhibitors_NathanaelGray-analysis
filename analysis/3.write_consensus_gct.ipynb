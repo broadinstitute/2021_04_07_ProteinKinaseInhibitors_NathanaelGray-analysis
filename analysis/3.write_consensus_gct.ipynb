{
 "cells": [
  {
   "cell_type": "code",
   "execution_count": 1,
   "metadata": {
    "collapsed": true
   },
   "outputs": [],
   "source": [
    "import pandas as pd\n",
    "import utils\n",
    "import matplotlib.pyplot as plt\n",
    "import random\n",
    "from pycytominer.cyto_utils import write_gct"
   ]
  },
  {
   "cell_type": "code",
   "execution_count": 2,
   "outputs": [
    {
     "data": {
      "text/plain": "               Batch                  Plate_Map_Name Assay_Plate_Barcode  \\\n0  2021_04_07_Batch1  CR-12982_Gray_cmpds_AB00027680          BR00122970   \n1  2021_04_07_Batch1  CR-12982_Gray_cmpds_AB00027680          BR00122971   \n2  2021_04_07_Batch1  CR-12982_Gray_cmpds_AB00027680          BR00122972   \n3  2021_04_07_Batch1  CR-12982_Gray_cmpds_AB00027680          BR00122973   \n4  2021_04_07_Batch1  CR-12982_Gray_cmpds_AB00027680          BR00122974   \n\n    Cell_Type  \n0  PATU-8988T  \n1  PATU-8988T  \n2  MDA-MB-231  \n3  MDA-MB-231  \n4        U2OS  ",
      "text/html": "<div>\n<style scoped>\n    .dataframe tbody tr th:only-of-type {\n        vertical-align: middle;\n    }\n\n    .dataframe tbody tr th {\n        vertical-align: top;\n    }\n\n    .dataframe thead th {\n        text-align: right;\n    }\n</style>\n<table border=\"1\" class=\"dataframe\">\n  <thead>\n    <tr style=\"text-align: right;\">\n      <th></th>\n      <th>Batch</th>\n      <th>Plate_Map_Name</th>\n      <th>Assay_Plate_Barcode</th>\n      <th>Cell_Type</th>\n    </tr>\n  </thead>\n  <tbody>\n    <tr>\n      <th>0</th>\n      <td>2021_04_07_Batch1</td>\n      <td>CR-12982_Gray_cmpds_AB00027680</td>\n      <td>BR00122970</td>\n      <td>PATU-8988T</td>\n    </tr>\n    <tr>\n      <th>1</th>\n      <td>2021_04_07_Batch1</td>\n      <td>CR-12982_Gray_cmpds_AB00027680</td>\n      <td>BR00122971</td>\n      <td>PATU-8988T</td>\n    </tr>\n    <tr>\n      <th>2</th>\n      <td>2021_04_07_Batch1</td>\n      <td>CR-12982_Gray_cmpds_AB00027680</td>\n      <td>BR00122972</td>\n      <td>MDA-MB-231</td>\n    </tr>\n    <tr>\n      <th>3</th>\n      <td>2021_04_07_Batch1</td>\n      <td>CR-12982_Gray_cmpds_AB00027680</td>\n      <td>BR00122973</td>\n      <td>MDA-MB-231</td>\n    </tr>\n    <tr>\n      <th>4</th>\n      <td>2021_04_07_Batch1</td>\n      <td>CR-12982_Gray_cmpds_AB00027680</td>\n      <td>BR00122974</td>\n      <td>U2OS</td>\n    </tr>\n  </tbody>\n</table>\n</div>"
     },
     "execution_count": 2,
     "metadata": {},
     "output_type": "execute_result"
    }
   ],
   "source": [
    "experiment_df = pd.read_csv('output/experiment-metadata.tsv', sep='\\t')\n",
    "\n",
    "all_consensus_df = pd.DataFrame()\n",
    "group_by_feature = 'Metadata_broad_sample'\n",
    "\n",
    "experiment_df.head()"
   ],
   "metadata": {
    "collapsed": false,
    "pycharm": {
     "name": "#%%\n"
    }
   }
  },
  {
   "cell_type": "code",
   "execution_count": 3,
   "outputs": [],
   "source": [
    "for i, cell_type in enumerate(experiment_df.Cell_Type.unique()):\n",
    "    batch = experiment_df.loc[i, 'Batch']\n",
    "    cell_type_df = experiment_df.query('Cell_Type==@cell_type')\n",
    "    all_plates_df = pd.DataFrame()\n",
    "    for plate in cell_type_df.Assay_Plate_Barcode.unique():\n",
    "        df = (\n",
    "            pd.read_csv(f'../profiles/{batch}/{plate}/{plate}_normalized_feature_select_negcon_batch.csv.gz', dtype={'Metadata_mmoles_per_liter':str})\n",
    "            .assign(Metadata_sample=lambda x: x.Metadata_Supplier_Catalog+'_'+x.Metadata_mmoles_per_liter)\n",
    "            .assign(Metadata_Cell_Type=cell_type)\n",
    "        )\n",
    "        all_plates_df = utils.concat_profiles(all_plates_df, df)\n",
    "\n",
    "    all_plates_df.Metadata_sample.fillna('DMSO', inplace=True)\n",
    "\n",
    "    replicating_corr_df = utils.corr_between_replicates_df(all_plates_df, 'Metadata_sample')\n",
    "\n",
    "    consensus_df = utils.consensus(all_plates_df, 'Metadata_sample')\n",
    "\n",
    "    replicating_corr_df['Cell_Type'] = f'{cell_type}'\n",
    "    replicating_corr_df[['Metadata_Supplier_Catalog','Concentration']] = replicating_corr_df.Metadata_sample.str.split('_',expand=True)\n",
    "\n",
    "    consensus_df = consensus_df.merge(replicating_corr_df[['replicate_correlation', 'Metadata_sample']], on='Metadata_sample', how='left')\n",
    "\n",
    "    all_consensus_df = utils.concat_profiles(all_consensus_df, consensus_df)"
   ],
   "metadata": {
    "collapsed": false,
    "pycharm": {
     "name": "#%%\n"
    }
   }
  },
  {
   "cell_type": "code",
   "execution_count": 4,
   "outputs": [],
   "source": [
    "all_consensus_df.rename(columns={'replicate_correlation': 'Metadata_replicate_correlation'}, inplace=True)\n",
    "write_gct(all_consensus_df, 'output/consensus_profiles.gct')"
   ],
   "metadata": {
    "collapsed": false,
    "pycharm": {
     "name": "#%%\n"
    }
   }
  }
 ],
 "metadata": {
  "kernelspec": {
   "display_name": "Python 3",
   "language": "python",
   "name": "python3"
  },
  "language_info": {
   "codemirror_mode": {
    "name": "ipython",
    "version": 2
   },
   "file_extension": ".py",
   "mimetype": "text/x-python",
   "name": "python",
   "nbconvert_exporter": "python",
   "pygments_lexer": "ipython2",
   "version": "2.7.6"
  }
 },
 "nbformat": 4,
 "nbformat_minor": 0
}