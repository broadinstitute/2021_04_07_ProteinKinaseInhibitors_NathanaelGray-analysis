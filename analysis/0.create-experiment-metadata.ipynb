{
 "cells": [
  {
   "cell_type": "code",
   "execution_count": 1,
   "metadata": {
    "collapsed": true
   },
   "outputs": [],
   "source": [
    "import pandas as pd"
   ]
  },
  {
   "cell_type": "markdown",
   "source": [
    "Create experiment metadata table using barcode_platemap.csv"
   ],
   "metadata": {
    "collapsed": false
   }
  },
  {
   "cell_type": "code",
   "execution_count": 2,
   "outputs": [],
   "source": [
    "cell_type_df = pd.read_csv('input/cell_type.csv')\n",
    "\n",
    "col_order = ['Batch', 'Plate_Map_Name','Assay_Plate_Barcode', 'Cell_Type']\n",
    "batch = '2021_04_07_Batch1'\n",
    "df = (\n",
    "    pd.read_csv(f'../metadata/platemaps/{batch}/barcode_platemap.csv')\n",
    "    .assign(Batch=batch)\n",
    ")\n",
    "\n",
    "df = df.merge(cell_type_df, on='Assay_Plate_Barcode', how='left')\n",
    "\n",
    "df[col_order].to_csv('output/experiment-metadata.tsv', index=False, sep='\\t')"
   ],
   "metadata": {
    "collapsed": false,
    "pycharm": {
     "name": "#%%\n"
    }
   }
  }
 ],
 "metadata": {
  "kernelspec": {
   "display_name": "Python 3",
   "language": "python",
   "name": "python3"
  },
  "language_info": {
   "codemirror_mode": {
    "name": "ipython",
    "version": 2
   },
   "file_extension": ".py",
   "mimetype": "text/x-python",
   "name": "python",
   "nbconvert_exporter": "python",
   "pygments_lexer": "ipython2",
   "version": "2.7.6"
  }
 },
 "nbformat": 4,
 "nbformat_minor": 0
}