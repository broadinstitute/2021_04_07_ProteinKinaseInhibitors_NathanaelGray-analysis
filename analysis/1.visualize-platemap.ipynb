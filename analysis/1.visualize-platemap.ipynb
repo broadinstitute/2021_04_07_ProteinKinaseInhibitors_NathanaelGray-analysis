{
 "cells": [
  {
   "cell_type": "code",
   "execution_count": 1,
   "metadata": {
    "collapsed": true
   },
   "outputs": [],
   "source": [
    "import pandas as pd\n",
    "import utils\n",
    "import matplotlib.pyplot as plt"
   ]
  },
  {
   "cell_type": "code",
   "execution_count": 2,
   "outputs": [
    {
     "data": {
      "text/plain": "      plate_map_name well_position broad_sample  mg_per_ml  mmoles_per_liter  \\\n0  C-7210-01-CMP-014           A01          NaN        NaN               NaN   \n1  C-7210-01-CMP-014           A02          NaN        NaN               NaN   \n2  C-7210-01-CMP-014           A03          NaN        NaN               NaN   \n3  C-7210-01-CMP-014           A04          NaN        NaN               NaN   \n4  C-7210-01-CMP-014           A05          NaN        NaN               NaN   \n\n  solvent Barcode Supplier Supplier_Catalog  moa pert_type control_type  \n0    DMSO     NaN      NaN             DMSO  NaN   control       negcon  \n1    DMSO     NaN      NaN             DMSO  NaN   control       negcon  \n2    DMSO     NaN      NaN             DMSO  NaN   control       negcon  \n3    DMSO     NaN      NaN             DMSO  NaN   control       negcon  \n4    DMSO     NaN      NaN             DMSO  NaN   control       negcon  ",
      "text/html": "<div>\n<style scoped>\n    .dataframe tbody tr th:only-of-type {\n        vertical-align: middle;\n    }\n\n    .dataframe tbody tr th {\n        vertical-align: top;\n    }\n\n    .dataframe thead th {\n        text-align: right;\n    }\n</style>\n<table border=\"1\" class=\"dataframe\">\n  <thead>\n    <tr style=\"text-align: right;\">\n      <th></th>\n      <th>plate_map_name</th>\n      <th>well_position</th>\n      <th>broad_sample</th>\n      <th>mg_per_ml</th>\n      <th>mmoles_per_liter</th>\n      <th>solvent</th>\n      <th>Barcode</th>\n      <th>Supplier</th>\n      <th>Supplier_Catalog</th>\n      <th>moa</th>\n      <th>pert_type</th>\n      <th>control_type</th>\n    </tr>\n  </thead>\n  <tbody>\n    <tr>\n      <th>0</th>\n      <td>C-7210-01-CMP-014</td>\n      <td>A01</td>\n      <td>NaN</td>\n      <td>NaN</td>\n      <td>NaN</td>\n      <td>DMSO</td>\n      <td>NaN</td>\n      <td>NaN</td>\n      <td>DMSO</td>\n      <td>NaN</td>\n      <td>control</td>\n      <td>negcon</td>\n    </tr>\n    <tr>\n      <th>1</th>\n      <td>C-7210-01-CMP-014</td>\n      <td>A02</td>\n      <td>NaN</td>\n      <td>NaN</td>\n      <td>NaN</td>\n      <td>DMSO</td>\n      <td>NaN</td>\n      <td>NaN</td>\n      <td>DMSO</td>\n      <td>NaN</td>\n      <td>control</td>\n      <td>negcon</td>\n    </tr>\n    <tr>\n      <th>2</th>\n      <td>C-7210-01-CMP-014</td>\n      <td>A03</td>\n      <td>NaN</td>\n      <td>NaN</td>\n      <td>NaN</td>\n      <td>DMSO</td>\n      <td>NaN</td>\n      <td>NaN</td>\n      <td>DMSO</td>\n      <td>NaN</td>\n      <td>control</td>\n      <td>negcon</td>\n    </tr>\n    <tr>\n      <th>3</th>\n      <td>C-7210-01-CMP-014</td>\n      <td>A04</td>\n      <td>NaN</td>\n      <td>NaN</td>\n      <td>NaN</td>\n      <td>DMSO</td>\n      <td>NaN</td>\n      <td>NaN</td>\n      <td>DMSO</td>\n      <td>NaN</td>\n      <td>control</td>\n      <td>negcon</td>\n    </tr>\n    <tr>\n      <th>4</th>\n      <td>C-7210-01-CMP-014</td>\n      <td>A05</td>\n      <td>NaN</td>\n      <td>NaN</td>\n      <td>NaN</td>\n      <td>DMSO</td>\n      <td>NaN</td>\n      <td>NaN</td>\n      <td>DMSO</td>\n      <td>NaN</td>\n      <td>control</td>\n      <td>negcon</td>\n    </tr>\n  </tbody>\n</table>\n</div>"
     },
     "execution_count": 2,
     "metadata": {},
     "output_type": "execute_result"
    }
   ],
   "source": [
    "batch = '2021_04_07_Batch1'\n",
    "platemap = 'CR-12982_Gray_cmpds_AB00027680'\n",
    "\n",
    "platemap_df = pd.read_csv(f'../metadata/platemaps/{batch}/platemap/{platemap}.txt', sep='\\t')\n",
    "metadata_df = pd.read_csv(f'../metadata/external_metadata/gray_metadata.tsv', sep='\\t')\n",
    "\n",
    "platemap_metadata_df = platemap_df.merge(metadata_df, on='broad_sample', how='left')\n",
    "platemap_metadata_df.head()"
   ],
   "metadata": {
    "collapsed": false,
    "pycharm": {
     "name": "#%%\n"
    }
   }
  },
  {
   "cell_type": "code",
   "execution_count": 3,
   "outputs": [],
   "source": [
    "utils.draw_plates(platemap_metadata_df)\n",
    "plt.savefig('figures/1.platemap.png')"
   ],
   "metadata": {
    "collapsed": false,
    "pycharm": {
     "name": "#%%\n"
    }
   }
  }
 ],
 "metadata": {
  "kernelspec": {
   "display_name": "Python 3",
   "language": "python",
   "name": "python3"
  },
  "language_info": {
   "codemirror_mode": {
    "name": "ipython",
    "version": 2
   },
   "file_extension": ".py",
   "mimetype": "text/x-python",
   "name": "python",
   "nbconvert_exporter": "python",
   "pygments_lexer": "ipython2",
   "version": "2.7.6"
  }
 },
 "nbformat": 4,
 "nbformat_minor": 0
}